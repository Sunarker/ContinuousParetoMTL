{
 "cells": [
  {
   "cell_type": "code",
   "execution_count": 1,
   "metadata": {},
   "outputs": [],
   "source": [
    "# Source code for ICML submission #640 \"Efficient Continuous Pareto Exploration in Multi-Task Learning\"\n",
    "# This script generates Figure 2 in the paper.\n",
    "import numpy as np\n",
    "import cvxpy as cp\n",
    "\n",
    "import matplotlib.pyplot as plt\n",
    "from mpl_toolkits.mplot3d import Axes3D\n",
    "from scipy.sparse.linalg import LinearOperator, lsmr\n",
    "\n",
    "from common import *\n",
    "from zdt2_variant import Zdt2Variant"
   ]
  },
  {
   "cell_type": "code",
   "execution_count": 2,
   "metadata": {},
   "outputs": [],
   "source": [
    "# Hyperparameters and random seeds.\n",
    "K = 5               # Number of tangent directions we want to generate.\n",
    "s = 0.1             # Step size.\n",
    "maxiter = 1         # Maximum allowable iterations in MINRES.\n",
    "np.random.seed(42)"
   ]
  },
  {
   "cell_type": "code",
   "execution_count": 3,
   "metadata": {},
   "outputs": [],
   "source": [
    "# Setting up the problem.\n",
    "problem = Zdt2Variant()\n",
    "n, m = problem.n, problem.m\n",
    "# Generate the initial Pareto optimal point.\n",
    "x0 = problem.sample_pareto_set()\n",
    "f0 = problem.f(x0)\n",
    "g0 = problem.grad(x0)"
   ]
  },
  {
   "cell_type": "code",
   "execution_count": 4,
   "metadata": {},
   "outputs": [],
   "source": [
    "# Solve alpha at x0.\n",
    "alpha = cp.Variable(m)\n",
    "objective = cp.Minimize(cp.sum_squares(alpha.T @ g0))\n",
    "constraints = [alpha >= 0, cp.sum(alpha) == 1]\n",
    "alpha_prob = cp.Problem(objective, constraints)\n",
    "optimal_loss = alpha_prob.solve()\n",
    "alpha = ndarray(alpha.value).ravel()\n",
    "# In this synthetic example, the gradients at a Pareto optimal solution must be perfectly parallel.\n",
    "assert np.allclose(g0[0] * alpha[0] + g0[1] * alpha[1], 0)\n",
    "assert np.isclose(np.sum(alpha), 1)\n",
    "assert np.min(alpha) >= 0"
   ]
  },
  {
   "cell_type": "code",
   "execution_count": 5,
   "metadata": {},
   "outputs": [],
   "source": [
    "# Defining a matrix-free solver.\n",
    "def At_op(y):\n",
    "    y = ndarray(y).ravel()\n",
    "    assert y.size == n\n",
    "    return np.hstack([problem.hvp(x0, alpha, y), g0 @ y])\n",
    "def A_op(y):\n",
    "    y = ndarray(y).ravel()\n",
    "    assert y.size == n + m\n",
    "    return problem.hvp(x0, alpha, y[:n]) + y[n:].T @ g0\n",
    "# The way we used MINRES is different from what we described in the paper due to some specialities in this ZDT2-variant\n",
    "# example. Instead of applying MINRES to Hv = g0.T @ beta where beta is randomly generated, we consider applying MINRES\n",
    "# to the following problem: Let A = [H, g0.T] so Hv = g0.T @ beta equals finding a null vector of A. We then solve the\n",
    "# linear least square problem below:\n",
    "# min_x \\|A.T @ x - b\\|\n",
    "# where b is randomly generated. This way, the solution x must satisfy the normal equation A @ A.T x = A @ b, and we\n",
    "# apply MINRES to this equation. Once x is found, we can recover v by (A.T @ x - b)[:n].\n",
    "# This mathematical trick for finding a null vector by solving a symmetric positive-semidefinite linear system was\n",
    "# introduced in the following papers:\n",
    "#\n",
    "# \"MINRES-QLP: A Krylov subspace method for indefinite or singular symmetric systems\"\n",
    "# \"LSMR: An iterative algorithm for sparse least-squares problems\"\n",
    "#\n",
    "# We didn't mention this method in our main paper because we did not use this trick in any other example. We found that\n",
    "# directly applying MINRES to Hv = g0.T @ beta seems to work better on neual networks while LSMR is more suitable for\n",
    "# tiny problems like ZDT2-variant. Note that LSMR is analytically equivalent to applying MINRES to solve the normal\n",
    "# equation above, so we still call our method MINRES in the main paper.\n",
    "def lsmr_solver(b):\n",
    "    x = lsmr(LinearOperator((n + m, n), matvec=At_op, rmatvec=A_op), b, maxiter=maxiter)[0]\n",
    "    return ndarray((At_op(x) - b)[:n])"
   ]
  },
  {
   "cell_type": "code",
   "execution_count": 6,
   "metadata": {},
   "outputs": [],
   "source": [
    "# Visualization.\n",
    "%matplotlib tk\n",
    "# Collect all the directions we would like to plot: (direction, color, label, s_min, s_max)\n",
    "# We will plot f(x0 + s * normalize(direction)) with s \\in [s_min, s_max]\n",
    "vi = []\n",
    "for i in range(K):\n",
    "    rhs = np.random.normal(size=n+m)\n",
    "    vi.append((lsmr_solver(rhs), 'tab:orange', 'MINRES' if i == 0 else None, -s, s))\n",
    "vi.append((g0[0], 'tab:blue', r'$\\nabla f_1(x^*)$', 0, s))\n",
    "vi.append((g0[1], 'tab:green', r'$\\nabla f_2(x^*)$', 0, s))\n",
    "\n",
    "# Plot the Pareto set.\n",
    "fig_ps = plt.figure(figsize=(15, 15))\n",
    "ax_ps = fig_ps.add_subplot(111, projection='3d', proj_type='ortho')\n",
    "problem.plot_pareto_set(ax_ps)\n",
    "ax_ps.scatter(x0[1], x0[2], x0[0], c='tab:red', s=50)\n",
    "for idx, (v, color, label, _, _) in enumerate(vi):\n",
    "    draw_arrow_3d(ax_ps, x0 + v / np.linalg.norm(v), x0, color)\n",
    "    ax_ps.set_xlim([-2, 2])\n",
    "    ax_ps.set_ylim([-2, 2])\n",
    "plt.show()\n",
    "\n",
    "# Plot the Pareto front.\n",
    "fig_pf = plt.figure(figsize=(5, 5))\n",
    "ax_pf = fig_pf.add_subplot(1, 1, 1)\n",
    "ax_pf.scatter(f0[0], f0[1], c='tab:red', label='Pareto optimal $x^*$', s=100)\n",
    "problem.plot_pareto_front(ax_pf, label='Pareto front')\n",
    "for idx, (v, color, label, s0, s1) in enumerate(vi):\n",
    "    fi = [problem.f(x0 + si * v / np.linalg.norm(v)) for si in np.linspace(s0, s1, 21)]\n",
    "    fi = ndarray(fi)\n",
    "    ax_pf.plot(fi[:, 0], fi[:, 1], c=color, label=label, lineWidth=3)\n",
    "ax_pf.legend()\n",
    "plt.show()"
   ]
  }
 ],
 "metadata": {
  "kernelspec": {
   "display_name": "Python 3",
   "language": "python",
   "name": "python3"
  },
  "language_info": {
   "codemirror_mode": {
    "name": "ipython",
    "version": 3
   },
   "file_extension": ".py",
   "mimetype": "text/x-python",
   "name": "python",
   "nbconvert_exporter": "python",
   "pygments_lexer": "ipython3",
   "version": "3.7.6"
  }
 },
 "nbformat": 4,
 "nbformat_minor": 4
}
