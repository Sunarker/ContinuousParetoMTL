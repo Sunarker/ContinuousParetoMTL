{
 "cells": [
  {
   "cell_type": "code",
   "execution_count": 1,
   "metadata": {},
   "outputs": [],
   "source": [
    "# Source code for ICML submission #640 \"Efficient Continuous Pareto Exploration in Multi-Task Learning\"\n",
    "# This script generates Figure 2 in the paper.\n",
    "import numpy as np\n",
    "import cvxpy as cp\n",
    "\n",
    "import matplotlib.pyplot as plt\n",
    "from mpl_toolkits.mplot3d import Axes3D\n",
    "from scipy.sparse.linalg import LinearOperator, minres\n",
    "\n",
    "from common import *\n",
    "from zdt2_variant import Zdt2Variant"
   ]
  },
  {
   "cell_type": "code",
   "execution_count": 2,
   "metadata": {},
   "outputs": [],
   "source": [
    "# Hyperparameters and random seeds.\n",
    "K = 5               # Number of tangent directions we want to generate.\n",
    "s = 0.1             # Step size.\n",
    "maxiter = 2         # Maximum allowable number of iterations in MINRES.\n",
    "np.random.seed(42)"
   ]
  },
  {
   "cell_type": "code",
   "execution_count": 3,
   "metadata": {},
   "outputs": [],
   "source": [
    "# Setting up the problem.\n",
    "problem = Zdt2Variant()\n",
    "n, m = problem.n, problem.m\n",
    "# Generate the initial Pareto optimal point.\n",
    "x0 = problem.sample_pareto_set()\n",
    "f0 = problem.f(x0)\n",
    "g0 = problem.grad(x0)"
   ]
  },
  {
   "cell_type": "code",
   "execution_count": 4,
   "metadata": {},
   "outputs": [],
   "source": [
    "# Solve alpha from gradients.\n",
    "def compute_alpha(g):\n",
    "    alpha = cp.Variable(m)\n",
    "    objective = cp.Minimize(cp.sum_squares(alpha.T @ g))\n",
    "    constraints = [alpha >= 0, cp.sum(alpha) == 1]\n",
    "    alpha_prob = cp.Problem(objective, constraints)\n",
    "    optimal_loss = alpha_prob.solve()\n",
    "    alpha = ndarray(alpha.value).ravel()\n",
    "    # In this synthetic example, the gradients at a Pareto optimal solution must be perfectly parallel.\n",
    "    assert np.allclose(g[0] * alpha[0] + g[1] * alpha[1], 0)\n",
    "    assert np.isclose(np.sum(alpha), 1)\n",
    "    assert np.min(alpha) >= 0\n",
    "    return alpha\n",
    "alpha = compute_alpha(g0)"
   ]
  },
  {
   "cell_type": "code",
   "execution_count": 5,
   "metadata": {},
   "outputs": [],
   "source": [
    "# Defining a matrix-free solver.\n",
    "def H_op(y):\n",
    "    y = ndarray(y).ravel()\n",
    "    assert y.size == n\n",
    "    return problem.hvp(x0, alpha, y)\n",
    "def minres_solver(b):\n",
    "    assert maxiter >= 2, print('Directly applying MINRES would require >= 2 iterations to gain better results.')\n",
    "    x, _ = minres(LinearOperator((n, n), matvec=H_op, rmatvec=H_op), b, maxiter=maxiter)\n",
    "    return ndarray(x)"
   ]
  },
  {
   "cell_type": "code",
   "execution_count": 6,
   "metadata": {},
   "outputs": [],
   "source": [
    "# Visualization.\n",
    "%matplotlib tk\n",
    "# Collect all the directions we would like to plot: (direction, color, label, s_min, s_max)\n",
    "# We will plot f(x0 + s * normalize(direction)) with s \\in [s_min, s_max]\n",
    "vi = []\n",
    "for i in range(K):\n",
    "    rhs = np.random.normal(size=n)\n",
    "    vi.append((minres_solver(rhs), 'tab:orange', 'MINRES' if i == 0 else None, -s, s))\n",
    "vi.append((g0[0], 'tab:blue', r'$\\nabla f_1(x^*)$', 0, s))\n",
    "vi.append((g0[1], 'tab:green', r'$\\nabla f_2(x^*)$', 0, s))\n",
    "\n",
    "# Plot the Pareto set.\n",
    "fig_ps = plt.figure(figsize=(15, 15))\n",
    "ax_ps = fig_ps.add_subplot(111, projection='3d', proj_type='ortho')\n",
    "problem.plot_pareto_set(ax_ps)\n",
    "ax_ps.scatter(x0[1], x0[2], x0[0], c='tab:red', s=50)\n",
    "for idx, (v, color, _, _, _) in enumerate(vi):\n",
    "    draw_arrow_3d(ax_ps, x0 + v / np.linalg.norm(v), x0, color)\n",
    "    ax_ps.set_xlim([-2, 2])\n",
    "    ax_ps.set_ylim([-2, 2])\n",
    "plt.show()\n",
    "\n",
    "# Plot the Pareto front.\n",
    "fig_pf = plt.figure(figsize=(5, 5))\n",
    "ax_pf = fig_pf.add_subplot(1, 1, 1)\n",
    "ax_pf.scatter(f0[0], f0[1], c='tab:red', label='Pareto optimal $f(x^*)$', s=100)\n",
    "problem.plot_pareto_front(ax_pf, label='Pareto front')\n",
    "for idx, (v, color, label, s0, s1) in enumerate(vi):\n",
    "    fi = [problem.f(x0 + si * v / np.linalg.norm(v)) for si in np.linspace(s0, s1, 21)]\n",
    "    fi = ndarray(fi)\n",
    "    ax_pf.plot(fi[:, 0], fi[:, 1], c=color, label=label, linewidth=3)\n",
    "ax_pf.legend()\n",
    "plt.show()"
   ]
  },
  {
   "cell_type": "code",
   "execution_count": 7,
   "metadata": {},
   "outputs": [],
   "source": [
    "# Now generate more results with different random seeds.\n",
    "vi = []\n",
    "xi = []\n",
    "fi = []\n",
    "# (direction, color, label, s_min, s_max, transparency)\n",
    "for seed in range(40):\n",
    "    np.random.seed(seed)\n",
    "    # Generate x0.\n",
    "    x0 = problem.sample_pareto_set()\n",
    "    f0 = problem.f(x0)\n",
    "    g0 = problem.grad(x0)\n",
    "    alpha0 = compute_alpha(g0)\n",
    "    fi.append(f0)\n",
    "    # Generate 1 direction for each x0.\n",
    "    rhs = np.random.normal(size=n)\n",
    "    v = minres_solver(rhs)\n",
    "    vi.append((v, 'tab:orange', 'MINRES' if seed == 0 else None, -s, s, 1.0))\n",
    "    xi.append(x0)\n",
    "    vi.append((g0[0], 'tab:blue', r'$\\nabla f_1(x^*)$' if seed == 0 else None, 0, s, 0.1))\n",
    "    xi.append(x0)\n",
    "    vi.append((g0[1], 'tab:green', r'$\\nabla f_2(x^*)$' if seed == 0 else None, 0, s, 0.1))\n",
    "    xi.append(x0)\n",
    "fi = ndarray(fi)"
   ]
  },
  {
   "cell_type": "code",
   "execution_count": 8,
   "metadata": {},
   "outputs": [],
   "source": [
    "# Plot more results. This is the figure in the supplemental material.\n",
    "fig_pf = plt.figure(figsize=(5, 5))\n",
    "ax_pf = fig_pf.add_subplot(1, 1, 1)\n",
    "ax_pf.scatter(fi[:, 0], fi[:, 1], c='tab:red', label='Pareto optimal $f(x^*)$', s=20)\n",
    "problem.plot_pareto_front(ax_pf, label='Pareto front')\n",
    "for x0, (v, color, label, s0, s1, a) in zip(xi, vi):\n",
    "    fi = [problem.f(x0 + si * v / np.linalg.norm(v)) for si in np.linspace(s0, s1, 21)]\n",
    "    fi = ndarray(fi)\n",
    "    ax_pf.plot(fi[:, 0], fi[:, 1], c=color, label=label, linewidth=3, alpha=a)\n",
    "ax_pf.legend()\n",
    "plt.show()"
   ]
  }
 ],
 "metadata": {
  "kernelspec": {
   "display_name": "Python 3",
   "language": "python",
   "name": "python3"
  },
  "language_info": {
   "codemirror_mode": {
    "name": "ipython",
    "version": 3
   },
   "file_extension": ".py",
   "mimetype": "text/x-python",
   "name": "python",
   "nbconvert_exporter": "python",
   "pygments_lexer": "ipython3",
   "version": "3.7.6"
  }
 },
 "nbformat": 4,
 "nbformat_minor": 4
}
